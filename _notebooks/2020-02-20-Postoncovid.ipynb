{
 "cells": [
  {
   "cell_type": "markdown",
   "metadata": {},
   "source": [
    "# \"Covify\"\n",
    ">\"A look into the GUI for the Covid 19 project\"\n",
    "\n",
    "- toc: true \n",
    "- badges: true\n",
    "- comments: true\n",
    "- author: Priyank \n",
    "- categories: [Jupyter]"
   ]
  },
  {
   "cell_type": "markdown",
   "metadata": {},
   "source": [
    "# About\n",
    "\n",
    "This notebook Contains UI And its Functionalities that are:-\n",
    "\n",
    "- We Can upload a CT Scan Image and Our Model `Covify` will predict on that image wether  the image uploaded is of a Covid Infected person or not.\n",
    "- When we `Click the Classifiy button `the model gives a softmax probability of the decision it made and how strongly it tries to put forward its integrity \n",
    "- We can then also `click on the Magic Button` that shows a heat map of all the activations in the image uploaded that tells us which all activations influenced the model to take certain decisions.\n"
   ]
  },
  {
   "cell_type": "markdown",
   "metadata": {},
   "source": [
    "### Covid Prediction on CT Scan Images\n",
    "\n",
    "![](images/Covi1.png)\n",
    "\n",
    "when we click on CT Scan images , Our Model predicts wether it is covid or not and also a heat map showcasing its predictions.\n"
   ]
  },
  {
   "cell_type": "markdown",
   "metadata": {},
   "source": [
    "### Non-Covid Prediction on CT Scan Images\n",
    "\n",
    "![](images/Covi2.png)\n",
    "\n",
    "when we click on CT Scan images , Our Model predicts wether it is covid or not and also a heat map showcasing its predictions.\n"
   ]
  },
  {
   "cell_type": "markdown",
   "metadata": {},
   "source": [
    "### Heatmaps \n",
    "![](images/hmap.png)\n",
    "This is a heat map of the image showcasing which activations or parts of the image led the model\n",
    "to predict wether the person is covid or not\n",
    "\n"
   ]
  },
  {
   "cell_type": "markdown",
   "metadata": {},
   "source": [
    "## Applications\n",
    " \n",
    "\n",
    "\n",
    "- > Deep learning, which is a popular research area of artificial intelligence (AI), enables the creation of end-to-end models to achieve promised results using input data, without the need for manual feature extraction.\n",
    "\n",
    "- > We have used CT scan images to not sacrifice on quality but also to improve speed of data diagnosis.\n",
    "\n",
    "- >In order to combat COVID the Current need of the hour is building Medical Diagnosis Support Systems that are Fast, Reliable, Efficient, and Effective.\n",
    "\n",
    "- >Conventional Covid-19 tests that is PCR (Polymerase chain reaction) test are time consuming and also leads to much more False-Negative and False Positive predictions\n",
    "- > We have to send the sample of PCR  to the labs which are sometimes in faraway locations that  is far time consuming\n",
    "- > Sometimes When the doctors and Radiologists are not available at that time we can   generate a preliminary diagnosis \n",
    "- > Application of machine learning methods for automatic diagnosis in the medical field have recently gained popularity i.e, have become far more essential in early detection \n",
    "- > Fast and accurate diagnostic methods are heavily needed to combat the disease so that more and more time should be invested in Disease Control\n",
    "\n",
    "- > Note: link to [link to my notebook](https://jovian.ai/priyank7n/minor-test-run) should also work fine."
   ]
  },
  {
   "cell_type": "markdown",
   "metadata": {},
   "source": [
    "## References\n",
    "\n",
    "\n",
    "```\n",
    "https://www.medrxiv.org/content/10.1101/2020.04.24.20078584v3\n",
    "https://www.kaggle.com/plameneduardo/sarscov2-ctscan-dataset\n",
    "https://github.com/mr7495/COVID-CTset\n",
    "https://jovian.ai/priyank7n/minor-test-run\n",
    "```\n",
    "\n"
   ]
  },
  {
   "cell_type": "code",
   "execution_count": null,
   "metadata": {},
   "outputs": [],
   "source": []
  }
 ],
 "metadata": {
  "kernelspec": {
   "display_name": "RAPIDS Stable",
   "language": "python",
   "name": "python3"
  },
  "language_info": {
   "codemirror_mode": {
    "name": "ipython",
    "version": 3
   },
   "file_extension": ".py",
   "mimetype": "text/x-python",
   "name": "python",
   "nbconvert_exporter": "python",
   "pygments_lexer": "ipython3",
   "version": "3.8.5"
  },
  "varInspector": {
   "cols": {
    "lenName": 16,
    "lenType": 16,
    "lenVar": 40
   },
   "kernels_config": {
    "python": {
     "delete_cmd_postfix": "",
     "delete_cmd_prefix": "del ",
     "library": "var_list.py",
     "varRefreshCmd": "print(var_dic_list())"
    },
    "r": {
     "delete_cmd_postfix": ") ",
     "delete_cmd_prefix": "rm(",
     "library": "var_list.r",
     "varRefreshCmd": "cat(var_dic_list()) "
    }
   },
   "types_to_exclude": [
    "module",
    "function",
    "builtin_function_or_method",
    "instance",
    "_Feature"
   ],
   "window_display": false
  }
 },
 "nbformat": 4,
 "nbformat_minor": 4
}
