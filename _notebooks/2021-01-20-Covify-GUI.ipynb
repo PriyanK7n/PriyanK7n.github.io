{
 "cells": [
  {
   "cell_type": "markdown",
   "metadata": {},
   "source": [
    "# \"Covify\"\n",
    "> \"A look into the GUI for the Covid 19 project\"\n",
    "\n",
    "- toc: true \n",
    "- badges: true\n",
    "- comments: true\n",
    "- author: Priyank \n",
    "- image: images/covid19.jpg"
   ]
  },
  {
   "cell_type": "markdown",
   "metadata": {},
   "source": [
    "# About\n",
    "\n",
    "GUI and its Functionalities are:\n",
    "\n",
    "- We can upload a `CT Scan Image,` and our model Covify will `predict` whether the image uploaded is of a Covid Infected person or not.\n",
    "- When we click the `Classify button,` the model gives a softmax probability of the decision is made and how strongly it tries to put forward its integrity.\n",
    "- When we click on the `Magic Button,` it shows a `heat map` of all the activations in the image that influenced the model to make certain decisions.\n"
   ]
  },
  {
   "cell_type": "markdown",
   "metadata": {},
   "source": [
    "# Covid Prediction on CT Scan Images\n",
    "![ycovid](https://user-images.githubusercontent.com/44031169/158137636-e4eb5777-9a00-4976-a13f-1c160d9c0176.png)\n"
   ]
  },
  {
   "cell_type": "markdown",
   "metadata": {},
   "source": [
    "# Non-Covid Prediction on CT Scan Images\n",
    "![ncovid](https://user-images.githubusercontent.com/44031169/158137631-58aff7bc-77ff-4647-8170-cf3c16cf113d.png)"
   ]
  },
  {
   "cell_type": "markdown",
   "metadata": {},
   "source": [
    "When we click on CT Scan images, Our Model predicts whether it is covid or not and shows a heat map demonstrating the basis of the model's predictions"
   ]
  },
  {
   "cell_type": "markdown",
   "metadata": {},
   "source": [
    "# Heatmaps \n",
    "![heatmap](https://user-images.githubusercontent.com/44031169/158137607-96f0b757-ddb2-4d61-9c2b-d5e2ab821f75.png)\n",
    "\n",
    "\n",
    "`This is a heat map for the image showcasing which activations or parts of the image led the model\n",
    "to predict certain decisions on whether the person is covid or not.`\n",
    "\n"
   ]
  },
  {
   "cell_type": "markdown",
   "metadata": {},
   "source": [
    "# Applications\n",
    " \n",
    "\n",
    "-  Deep learning, a popular research area of artificial intelligence (AI), enables the creation of end-to-end models to achieve promised results using input data without the need for manual feature extraction.\n",
    "\n",
    "- We have used CT scan images to not sacrifice the quality of diagnosis and improve the speed of data diagnosis.\n",
    "\n",
    "- To combat COVID, the Current need of the hour is building Medical Diagnosis Support Systems that are Fast, Reliable, Efficient, and Effective.\n",
    "\n",
    "- Conventional Covid-19 tests that, is PCR (Polymerase chain reaction) test are time-consuming and also leads to much more False-Negative and False Positive predictions\n",
    "-  We have to send the sample of PCR  to the labs, which are sometimes in faraway locations that  is far time consuming\n",
    "-  Sometimes, When the doctors and Radiologists are not available at that time, we can   generate a preliminary diagnosis \n",
    "-  Application of machine learning methods for automatic diagnosis in the medical field have recently gained popularity, i.e., have become far more essential in early detection \n",
    "-  Fast and accurate diagnostic methods are heavily needed to combat the disease, so more and more time should be invested in Disease Control"
   ]
  },
  {
   "cell_type": "markdown",
   "metadata": {},
   "source": [
    "# References\n",
    "\n",
    "```\n",
    "https://www.medrxiv.org/content/10.1101/2020.04.24.20078584v3\n",
    "https://www.kaggle.com/plameneduardo/sarscov2-ctscan-dataset\n",
    "```\n",
    "\n"
   ]
  },
  {
   "cell_type": "code",
   "execution_count": null,
   "metadata": {},
   "outputs": [],
   "source": []
  }
 ],
 "metadata": {
  "kernelspec": {
   "display_name": "Python 3 (ipykernel)",
   "language": "python",
   "name": "python3"
  },
  "language_info": {
   "codemirror_mode": {
    "name": "ipython",
    "version": 3
   },
   "file_extension": ".py",
   "mimetype": "text/x-python",
   "name": "python",
   "nbconvert_exporter": "python",
   "pygments_lexer": "ipython3",
   "version": "3.9.13"
  },
  "varInspector": {
   "cols": {
    "lenName": 16,
    "lenType": 16,
    "lenVar": 40
   },
   "kernels_config": {
    "python": {
     "delete_cmd_postfix": "",
     "delete_cmd_prefix": "del ",
     "library": "var_list.py",
     "varRefreshCmd": "print(var_dic_list())"
    },
    "r": {
     "delete_cmd_postfix": ") ",
     "delete_cmd_prefix": "rm(",
     "library": "var_list.r",
     "varRefreshCmd": "cat(var_dic_list()) "
    }
   },
   "types_to_exclude": [
    "module",
    "function",
    "builtin_function_or_method",
    "instance",
    "_Feature"
   ],
   "window_display": false
  }
 },
 "nbformat": 4,
 "nbformat_minor": 4
}
